{
 "cells": [
  {
   "cell_type": "markdown",
   "metadata": {},
   "source": [
    "# Lab 6 - Inciso 3\n",
    "Diego Andrés Morales Aquino - 21762\n",
    "\n",
    "Pablo Andrés Zamora Vásquez - 21780\n",
    "\n",
    "Erick Stiv Junior Guerra Muñoz - 21781"
   ]
  },
  {
   "cell_type": "code",
   "execution_count": null,
   "metadata": {},
   "outputs": [],
   "source": [
    "#using Pkg\n",
    "#Pkg.add(\"JuMP\")\n",
    "#Pkg.add(\"GLPK\")"
   ]
  },
  {
   "cell_type": "code",
   "execution_count": 1,
   "metadata": {},
   "outputs": [],
   "source": [
    "using JuMP\n",
    "using GLPK"
   ]
  },
  {
   "cell_type": "code",
   "execution_count": 2,
   "metadata": {},
   "outputs": [
    {
     "data": {
      "text/plain": [
       "A JuMP Model\n",
       "├ solver: GLPK\n",
       "├ objective_sense: FEASIBILITY_SENSE\n",
       "├ num_variables: 0\n",
       "├ num_constraints: 0\n",
       "└ Names registered in the model: none"
      ]
     },
     "execution_count": 2,
     "metadata": {},
     "output_type": "execute_result"
    }
   ],
   "source": [
    "model = Model(GLPK.Optimizer)"
   ]
  },
  {
   "cell_type": "code",
   "execution_count": 3,
   "metadata": {},
   "outputs": [
    {
     "data": {
      "text/latex": [
       "$ x6 $"
      ],
      "text/plain": [
       "x6"
      ]
     },
     "execution_count": 3,
     "metadata": {},
     "output_type": "execute_result"
    }
   ],
   "source": [
    "# Variables continuas no negativas\n",
    "@variable(model, x1 >= 0)\n",
    "@variable(model, x2 >= 0)\n",
    "@variable(model, x3 >= 0)\n",
    "@variable(model, x4 >= 0)\n",
    "@variable(model, x5 >= 0)\n",
    "@variable(model, x6 >= 0)"
   ]
  },
  {
   "cell_type": "code",
   "execution_count": 4,
   "metadata": {},
   "outputs": [
    {
     "data": {
      "text/latex": [
       "$ x1 + x2 + x3 + x4 + x5 + x6 $"
      ],
      "text/plain": [
       "x1 + x2 + x3 + x4 + x5 + x6"
      ]
     },
     "execution_count": 4,
     "metadata": {},
     "output_type": "execute_result"
    }
   ],
   "source": [
    "# Función objetivo\n",
    "@objective(model, Min, x1 + x2 + x3 + x4 + x5 + x6)"
   ]
  },
  {
   "cell_type": "code",
   "execution_count": 5,
   "metadata": {},
   "outputs": [
    {
     "data": {
      "text/latex": [
       "$$ x5 + x6 \\geq 4 $$"
      ],
      "text/plain": [
       "c6 : x5 + x6 >= 4"
      ]
     },
     "execution_count": 5,
     "metadata": {},
     "output_type": "execute_result"
    }
   ],
   "source": [
    "# Restricciones\n",
    "@constraint(model, c1, x1 + x6 >= 4)\n",
    "@constraint(model, c2, x1 + x2 >= 8)\n",
    "@constraint(model, c3, x2 + x3 >= 10)\n",
    "@constraint(model, c4, x3 + x4 >= 7)\n",
    "@constraint(model, c5, x4 + x5 >= 12)\n",
    "@constraint(model, c6, x5 + x6 >= 4)"
   ]
  },
  {
   "cell_type": "code",
   "execution_count": 6,
   "metadata": {},
   "outputs": [],
   "source": [
    "# Resolver el modelo\n",
    "optimize!(model)"
   ]
  },
  {
   "cell_type": "code",
   "execution_count": 9,
   "metadata": {},
   "outputs": [
    {
     "name": "stdout",
     "output_type": "stream",
     "text": [
      "Solución optimizada:\n",
      "x1 = 4.0\n",
      "x2 = 4.0\n",
      "x3 = 6.0\n",
      "x4 = 8.0\n",
      "x5 = 4.0\n",
      "x6 = 0.0\n",
      "Valor mínimo de buses circulantes diarios = 26.0\n"
     ]
    }
   ],
   "source": [
    "println(\"Solución optimizada:\")\n",
    "println(\"x1 = \", value(x1))\n",
    "println(\"x2 = \", value(x2))\n",
    "println(\"x3 = \", value(x3))\n",
    "println(\"x4 = \", value(x4))\n",
    "println(\"x5 = \", value(x5))\n",
    "println(\"x6 = \", value(x6))\n",
    "println(\"Valor mínimo de buses circulantes diarios = \", objective_value(model))"
   ]
  }
 ],
 "metadata": {
  "kernelspec": {
   "display_name": "Julia 1.10.5",
   "language": "julia",
   "name": "julia-1.10"
  },
  "language_info": {
   "file_extension": ".jl",
   "mimetype": "application/julia",
   "name": "julia",
   "version": "1.10.5"
  }
 },
 "nbformat": 4,
 "nbformat_minor": 2
}
