{
 "cells": [
  {
   "cell_type": "code",
   "execution_count": 4,
   "metadata": {},
   "outputs": [],
   "source": [
    "using JuMP\n",
    "using GLPK\n",
    "\n",
    "# Crear el modelo\n",
    "model = Model(GLPK.Optimizer)\n",
    "\n",
    "# Parámetros\n",
    "demanda = [180, 250, 190, 140, 220, 250] # Demanda de ventanas por mes\n",
    "costos_produccion = [50, 45, 55, 52, 48, 50] # Costo de producción por ventana por mes\n",
    "costos_almacenaje = [8, 10, 10, 10, 8, 8] # Costo de almacenaje por ventana por mes\n",
    "capacidad = 225 # Capacidad máxima de producción por mes\n",
    "n_meses = length(demanda)\n",
    "\n",
    "# Variables de decisión\n",
    "@variable(model, x[1:n_meses] >= 0, Int)  # Cantidad de ventanas producidas en cada mes\n",
    "@variable(model, i[1:n_meses] >= 0, Int)  # Inventario al final de cada mes\n",
    "\n",
    "# Función objetivo (minimizar los costos totales de producción y almacenaje)\n",
    "@objective(model, Min, sum(costos_produccion[t] * x[t] for t in 1:n_meses) + \n",
    "                        sum(costos_almacenaje[t] * i[t] for t in 1:n_meses))\n",
    "\n",
    "# Restricciones de demanda mensual\n",
    "@constraint(model, i[1] == x[1] - demanda[1])  # Inventario al final del primer mes\n",
    "for t in 2:n_meses\n",
    "    @constraint(model, i[t] == i[t-1] + x[t] - demanda[t])  # Inventario para los siguientes meses\n",
    "end\n",
    "\n",
    "# Restricciones de capacidad de producción por mes\n",
    "for t in 1:n_meses\n",
    "    @constraint(model, x[t] <= capacidad)  # No se puede producir más de 225 ventanas al mes\n",
    "end\n"
   ]
  },
  {
   "cell_type": "code",
   "execution_count": 5,
   "metadata": {},
   "outputs": [
    {
     "name": "stdout",
     "output_type": "stream",
     "text": [
      "Programa de producción óptimo por mes:\n",
      "Mes 1: Producción = 205.0 ventanas, Inventario final = 25.0 ventanas\n",
      "Mes 2: Producción = 225.0 ventanas, Inventario final = 0.0 ventanas\n",
      "Mes 3: Producción = 190.0 ventanas, Inventario final = 0.0 ventanas\n",
      "Mes 4: Producción = 160.0 ventanas, Inventario final = 20.0 ventanas\n",
      "Mes 5: Producción = 225.0 ventanas, Inventario final = 25.0 ventanas\n",
      "Mes 6: Producción = 225.0 ventanas, Inventario final = 0.0 ventanas\n",
      "Costo total: 61795.0\n"
     ]
    }
   ],
   "source": [
    "# Resolver el problema\n",
    "optimize!(model)\n",
    "\n",
    "# Mostrar los resultados\n",
    "println(\"Programa de producción óptimo por mes:\")\n",
    "for t in 1:n_meses\n",
    "    println(\"Mes $t: Producción = \", value(x[t]), \" ventanas, Inventario final = \", value(i[t]), \" ventanas\")\n",
    "end\n",
    "\n",
    "println(\"Costo total: \", objective_value(model))"
   ]
  }
 ],
 "metadata": {
  "kernelspec": {
   "display_name": "Julia 1.10.5",
   "language": "julia",
   "name": "julia-1.10"
  },
  "language_info": {
   "file_extension": ".jl",
   "mimetype": "application/julia",
   "name": "julia",
   "version": "1.10.5"
  }
 },
 "nbformat": 4,
 "nbformat_minor": 2
}
